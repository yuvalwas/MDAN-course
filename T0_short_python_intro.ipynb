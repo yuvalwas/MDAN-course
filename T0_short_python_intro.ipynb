{
  "nbformat": 4,
  "nbformat_minor": 0,
  "metadata": {
    "colab": {
      "provenance": [],
      "authorship_tag": "ABX9TyNMTTmCojha55yELlyc9WR4",
      "include_colab_link": true
    },
    "kernelspec": {
      "name": "python3",
      "display_name": "Python 3"
    },
    "language_info": {
      "name": "python"
    }
  },
  "cells": [
    {
      "cell_type": "markdown",
      "metadata": {
        "id": "view-in-github",
        "colab_type": "text"
      },
      "source": [
        "<a href=\"https://colab.research.google.com/github/yuvalwas/MDAN-course/blob/main/T0_short_python_intro.ipynb\" target=\"_parent\"><img src=\"https://colab.research.google.com/assets/colab-badge.svg\" alt=\"Open In Colab\"/></a>"
      ]
    },
    {
      "cell_type": "markdown",
      "source": [
        "# Tutorial 0 - very short introduction to Python\n",
        "The web is packed with Python tutorials in all lengths and styles. This just covers the bare minimum that will help those new to Python to follow the tutorials in the course. The amount of Python you'll need to understand the tutorials is, by design, quite little, in order to focus on the concepts instead of the technical details. Note that you will have to write code in your homework, but that you don't have to do in Python. Note that Python is perhaps the most popular programming language, especially when working with data. It's worthwhile being familiar with the basics of it. "
      ],
      "metadata": {
        "id": "eIGi87EmvowM"
      }
    },
    {
      "cell_type": "markdown",
      "source": [
        "# Basic oprations"
      ],
      "metadata": {
        "id": "ZKx4hGxkvmgU"
      }
    },
    {
      "cell_type": "code",
      "execution_count": 19,
      "metadata": {
        "id": "izlBqBFXvJCw"
      },
      "outputs": [],
      "source": [
        "x = 5\n",
        "y = 3 "
      ]
    },
    {
      "cell_type": "code",
      "source": [
        "x + y # addition"
      ],
      "metadata": {
        "colab": {
          "base_uri": "https://localhost:8080/"
        },
        "id": "TYUqdzUgxfNt",
        "outputId": "5e69f3d8-6957-41e8-f669-0a11d191f382"
      },
      "execution_count": 20,
      "outputs": [
        {
          "output_type": "execute_result",
          "data": {
            "text/plain": [
              "8"
            ]
          },
          "metadata": {},
          "execution_count": 20
        }
      ]
    },
    {
      "cell_type": "code",
      "source": [
        "x * y # multiplication"
      ],
      "metadata": {
        "colab": {
          "base_uri": "https://localhost:8080/"
        },
        "id": "Rk6XKfAGxmid",
        "outputId": "7706abca-69a0-4e0e-8c19-78e5fe84845a"
      },
      "execution_count": 21,
      "outputs": [
        {
          "output_type": "execute_result",
          "data": {
            "text/plain": [
              "15"
            ]
          },
          "metadata": {},
          "execution_count": 21
        }
      ]
    },
    {
      "cell_type": "code",
      "source": [
        "x ** y # x is raised to the power of y, (in matlab it is ^)"
      ],
      "metadata": {
        "colab": {
          "base_uri": "https://localhost:8080/"
        },
        "id": "R-SupnvPxzQO",
        "outputId": "2a521f61-23a4-4e58-8270-78760be64138"
      },
      "execution_count": 22,
      "outputs": [
        {
          "output_type": "execute_result",
          "data": {
            "text/plain": [
              "125"
            ]
          },
          "metadata": {},
          "execution_count": 22
        }
      ]
    },
    {
      "cell_type": "code",
      "source": [
        "x + 2 # this returns 7 but x is still 5"
      ],
      "metadata": {
        "colab": {
          "base_uri": "https://localhost:8080/"
        },
        "id": "J9FwpE5Px4bt",
        "outputId": "ac6639c3-2eb9-4110-9e5d-94696db5b3c6"
      },
      "execution_count": 23,
      "outputs": [
        {
          "output_type": "execute_result",
          "data": {
            "text/plain": [
              "7"
            ]
          },
          "metadata": {},
          "execution_count": 23
        }
      ]
    },
    {
      "cell_type": "code",
      "source": [
        "x += 2 # this changes x\n",
        "x"
      ],
      "metadata": {
        "colab": {
          "base_uri": "https://localhost:8080/"
        },
        "id": "hg9LtoqzyH1E",
        "outputId": "729e98f8-3993-40b5-acd3-c69c9c816904"
      },
      "execution_count": 24,
      "outputs": [
        {
          "output_type": "execute_result",
          "data": {
            "text/plain": [
              "7"
            ]
          },
          "metadata": {},
          "execution_count": 24
        }
      ]
    },
    {
      "cell_type": "markdown",
      "source": [
        "# lists"
      ],
      "metadata": {
        "id": "Q2uI0YcsyYyI"
      }
    },
    {
      "cell_type": "code",
      "source": [
        "A = [1, 4, 7, 8, 11]"
      ],
      "metadata": {
        "id": "Blum2KeZya4d"
      },
      "execution_count": 25,
      "outputs": []
    },
    {
      "cell_type": "markdown",
      "source": [
        "In Python, indexing starts at 0:"
      ],
      "metadata": {
        "id": "l-L9NSlyytqU"
      }
    },
    {
      "cell_type": "code",
      "source": [
        "A[0]"
      ],
      "metadata": {
        "colab": {
          "base_uri": "https://localhost:8080/"
        },
        "id": "GQQH8JvaymGk",
        "outputId": "939cfcf2-ea95-44d7-9bc0-e782dfa76d7d"
      },
      "execution_count": 26,
      "outputs": [
        {
          "output_type": "execute_result",
          "data": {
            "text/plain": [
              "1"
            ]
          },
          "metadata": {},
          "execution_count": 26
        }
      ]
    },
    {
      "cell_type": "code",
      "source": [
        "A[2]"
      ],
      "metadata": {
        "colab": {
          "base_uri": "https://localhost:8080/"
        },
        "id": "AkTbT2rMzcJr",
        "outputId": "fc3d55a2-c242-459e-f678-52b6dc8f2232"
      },
      "execution_count": 27,
      "outputs": [
        {
          "output_type": "execute_result",
          "data": {
            "text/plain": [
              "7"
            ]
          },
          "metadata": {},
          "execution_count": 27
        }
      ]
    },
    {
      "cell_type": "markdown",
      "source": [
        "Thus index 0 gives the first element in `A` and the index 2 gives the third element in `A`"
      ],
      "metadata": {
        "id": "G8UJ_pUJy-Lq"
      }
    },
    {
      "cell_type": "markdown",
      "source": [
        "Slicing: "
      ],
      "metadata": {
        "id": "2_iT0AmxzSVc"
      }
    },
    {
      "cell_type": "code",
      "source": [
        "A[:2] # this gives all elements from the beginning until (not including) index 2 (that's is why 7 is not there), i.e. the first two elements "
      ],
      "metadata": {
        "colab": {
          "base_uri": "https://localhost:8080/"
        },
        "id": "6ENGGjdAy232",
        "outputId": "46f7835e-0bf7-4fa5-9e2e-99475f29acbc"
      },
      "execution_count": 28,
      "outputs": [
        {
          "output_type": "execute_result",
          "data": {
            "text/plain": [
              "[1, 4]"
            ]
          },
          "metadata": {},
          "execution_count": 28
        }
      ]
    },
    {
      "cell_type": "code",
      "source": [
        "A[2:] # this gives all elements from index 2 (third element) until the end"
      ],
      "metadata": {
        "colab": {
          "base_uri": "https://localhost:8080/"
        },
        "id": "r3hOmQa1zPad",
        "outputId": "51d75a02-acff-46c1-ae57-ec9126b0061d"
      },
      "execution_count": 29,
      "outputs": [
        {
          "output_type": "execute_result",
          "data": {
            "text/plain": [
              "[7, 8, 11]"
            ]
          },
          "metadata": {},
          "execution_count": 29
        }
      ]
    },
    {
      "cell_type": "code",
      "source": [
        "A[2:4] # second and third elements"
      ],
      "metadata": {
        "colab": {
          "base_uri": "https://localhost:8080/"
        },
        "id": "uOG0DMPDz2oL",
        "outputId": "24909390-6820-4ac5-ea8d-c29da574ab60"
      },
      "execution_count": 30,
      "outputs": [
        {
          "output_type": "execute_result",
          "data": {
            "text/plain": [
              "[7, 8]"
            ]
          },
          "metadata": {},
          "execution_count": 30
        }
      ]
    },
    {
      "cell_type": "markdown",
      "source": [
        "# Loops\n",
        "Instead of closing the loop with an `end` like in Matlab, only the indented code belongs to the loop."
      ],
      "metadata": {
        "id": "FNZB7zQK0C6c"
      }
    },
    {
      "cell_type": "code",
      "source": [
        "A = [1, 4, 7, 8, 11]\n",
        "for a in A:\n",
        "  print('still in the loop')\n",
        "  b = a*2 # in the loop\n",
        "  print(a, b) # in the loop\n",
        "print('This is not a part of the loop')"
      ],
      "metadata": {
        "colab": {
          "base_uri": "https://localhost:8080/"
        },
        "id": "xewJl2viz5a4",
        "outputId": "dbf2951c-8c28-4c97-928f-562a271aafc1"
      },
      "execution_count": 31,
      "outputs": [
        {
          "output_type": "stream",
          "name": "stdout",
          "text": [
            "still in the loop\n",
            "1 2\n",
            "still in the loop\n",
            "4 8\n",
            "still in the loop\n",
            "7 14\n",
            "still in the loop\n",
            "8 16\n",
            "still in the loop\n",
            "11 22\n",
            "This is not a part of the loop\n"
          ]
        }
      ]
    },
    {
      "cell_type": "markdown",
      "source": [
        "**List Comprehension** <br>\n",
        "This is an easy way to create a list using a loop."
      ],
      "metadata": {
        "id": "uAjmvWGP0uhG"
      }
    },
    {
      "cell_type": "code",
      "source": [
        "[a*2 for a in A]"
      ],
      "metadata": {
        "colab": {
          "base_uri": "https://localhost:8080/"
        },
        "id": "CnpHglBI0uMM",
        "outputId": "f3a02ce8-bca5-4be0-c25d-594e9d2315aa"
      },
      "execution_count": 32,
      "outputs": [
        {
          "output_type": "execute_result",
          "data": {
            "text/plain": [
              "[2, 8, 14, 16, 22]"
            ]
          },
          "metadata": {},
          "execution_count": 32
        }
      ]
    },
    {
      "cell_type": "markdown",
      "source": [
        "The expression before the `for` is whatever is collected into a list by the loop (in this case, `a*2`)."
      ],
      "metadata": {
        "id": "D3zLK52x1F7C"
      }
    },
    {
      "cell_type": "markdown",
      "source": [
        "# Using packages\n",
        "Many useful functions are not available automatically in Python.\n",
        "`sum` is available to use always:"
      ],
      "metadata": {
        "id": "-c0a6_DJ2VJ7"
      }
    },
    {
      "cell_type": "code",
      "source": [
        "A = [2, 3, 4]\n",
        "sum(A)"
      ],
      "metadata": {
        "colab": {
          "base_uri": "https://localhost:8080/"
        },
        "id": "SPIl9qTH2Sow",
        "outputId": "3c6d4aa4-4491-41bd-84a5-e58745a58e90"
      },
      "execution_count": 33,
      "outputs": [
        {
          "output_type": "execute_result",
          "data": {
            "text/plain": [
              "9"
            ]
          },
          "metadata": {},
          "execution_count": 33
        }
      ]
    },
    {
      "cell_type": "markdown",
      "source": [
        "However, there is no default function to take the mean of all numbers in a list:"
      ],
      "metadata": {
        "id": "xsAJxUpd2uPe"
      }
    },
    {
      "cell_type": "code",
      "source": [
        "@ prod(A)"
      ],
      "metadata": {
        "colab": {
          "base_uri": "https://localhost:8080/",
          "height": 131
        },
        "id": "q0yZr31x2tmC",
        "outputId": "bd124015-8d4e-46da-9ed3-67ce18c7b017"
      },
      "execution_count": 34,
      "outputs": [
        {
          "output_type": "error",
          "ename": "SyntaxError",
          "evalue": "ignored",
          "traceback": [
            "\u001b[0;36m  File \u001b[0;32m\"<ipython-input-34-c962336960ce>\"\u001b[0;36m, line \u001b[0;32m1\u001b[0m\n\u001b[0;31m    @ prod(A)\u001b[0m\n\u001b[0m             ^\u001b[0m\n\u001b[0;31mSyntaxError\u001b[0m\u001b[0;31m:\u001b[0m incomplete input\n"
          ]
        }
      ]
    },
    {
      "cell_type": "markdown",
      "source": [
        "## NumPy\n",
        "NumPy is a very common package that provides many useful functions for data analysis. In order to use it, we have to import it:"
      ],
      "metadata": {
        "id": "YF0jKd-A247H"
      }
    },
    {
      "cell_type": "code",
      "source": [
        "import numpy as np # \"as np\" gives numpy a shorter name, and it is very common to import numpy in this way."
      ],
      "metadata": {
        "id": "_OW6uUh624OE"
      },
      "execution_count": 35,
      "outputs": []
    },
    {
      "cell_type": "markdown",
      "source": [
        "In order to access a NumPy function, we have to put `np` before it, like this:"
      ],
      "metadata": {
        "id": "qCkqQ5SW3VYm"
      }
    },
    {
      "cell_type": "code",
      "source": [
        "np.mean(A)"
      ],
      "metadata": {
        "colab": {
          "base_uri": "https://localhost:8080/"
        },
        "id": "j1Li4Tvw3eXs",
        "outputId": "6be0f336-0647-4868-faf6-041b8f07c327"
      },
      "execution_count": 36,
      "outputs": [
        {
          "output_type": "execute_result",
          "data": {
            "text/plain": [
              "3.0"
            ]
          },
          "metadata": {},
          "execution_count": 36
        }
      ]
    },
    {
      "cell_type": "code",
      "source": [
        "np.prod(A) # product of all numbers in A"
      ],
      "metadata": {
        "colab": {
          "base_uri": "https://localhost:8080/"
        },
        "id": "xho1-DKl3h9-",
        "outputId": "2fd5a427-201e-4138-b83d-2476e672501a"
      },
      "execution_count": 37,
      "outputs": [
        {
          "output_type": "execute_result",
          "data": {
            "text/plain": [
              "24"
            ]
          },
          "metadata": {},
          "execution_count": 37
        }
      ]
    },
    {
      "cell_type": "code",
      "source": [
        "np.std(A) # standard deviation"
      ],
      "metadata": {
        "colab": {
          "base_uri": "https://localhost:8080/"
        },
        "id": "3F9LycqR3vgI",
        "outputId": "cfed7167-f060-4ae9-f594-577dd9335539"
      },
      "execution_count": 38,
      "outputs": [
        {
          "output_type": "execute_result",
          "data": {
            "text/plain": [
              "0.816496580927726"
            ]
          },
          "metadata": {},
          "execution_count": 38
        }
      ]
    },
    {
      "cell_type": "code",
      "source": [
        "x = np.arange(10) # gives a range of integers\n",
        "x"
      ],
      "metadata": {
        "colab": {
          "base_uri": "https://localhost:8080/"
        },
        "id": "BLm0-iOQ4Oog",
        "outputId": "fa01bfbc-ff9e-435a-956c-7f7b5839e869"
      },
      "execution_count": 39,
      "outputs": [
        {
          "output_type": "execute_result",
          "data": {
            "text/plain": [
              "array([0, 1, 2, 3, 4, 5, 6, 7, 8, 9])"
            ]
          },
          "metadata": {},
          "execution_count": 39
        }
      ]
    },
    {
      "cell_type": "code",
      "source": [
        "y = np.random.randn(10) # gives random numbers from a standard normal distribution\n",
        "y"
      ],
      "metadata": {
        "colab": {
          "base_uri": "https://localhost:8080/"
        },
        "id": "6ErL79vE4dFq",
        "outputId": "3e10e791-2ec4-4a35-e21e-19d74872dd2d"
      },
      "execution_count": 40,
      "outputs": [
        {
          "output_type": "execute_result",
          "data": {
            "text/plain": [
              "array([ 1.20770168,  1.09956511,  1.56331403,  0.48921251, -0.17778972,\n",
              "       -0.91799006,  0.6200978 , -0.44964404, -0.49777581,  1.41610079])"
            ]
          },
          "metadata": {},
          "execution_count": 40
        }
      ]
    },
    {
      "cell_type": "markdown",
      "source": [
        "Notice that the list we got back is called an array. Numpy uses arrays instead of lists. A Numpy array basically behaves like a matrix:"
      ],
      "metadata": {
        "id": "LdpZP9Kw4pmj"
      }
    },
    {
      "cell_type": "code",
      "source": [
        "w = np.random.randn(3,4)\n",
        "w"
      ],
      "metadata": {
        "colab": {
          "base_uri": "https://localhost:8080/"
        },
        "id": "7meoX1sm5I1M",
        "outputId": "7b5bf314-c002-4efb-b7b6-764e169db6b6"
      },
      "execution_count": 41,
      "outputs": [
        {
          "output_type": "execute_result",
          "data": {
            "text/plain": [
              "array([[ 0.02750094, -1.27169592,  1.46459231, -0.42403736],\n",
              "       [-0.19487199, -0.82153272,  0.6761138 , -0.94724452],\n",
              "       [ 0.43077197, -0.84780854, -0.1797248 , -0.41606375]])"
            ]
          },
          "metadata": {},
          "execution_count": 41
        }
      ]
    },
    {
      "cell_type": "code",
      "source": [
        "w.shape"
      ],
      "metadata": {
        "colab": {
          "base_uri": "https://localhost:8080/"
        },
        "id": "j6EnIVe27siP",
        "outputId": "d3a60d59-99b4-4f59-8f5c-41093560c47b"
      },
      "execution_count": 42,
      "outputs": [
        {
          "output_type": "execute_result",
          "data": {
            "text/plain": [
              "(3, 4)"
            ]
          },
          "metadata": {},
          "execution_count": 42
        }
      ]
    },
    {
      "cell_type": "code",
      "source": [
        "np.max(w) # largest element in w"
      ],
      "metadata": {
        "colab": {
          "base_uri": "https://localhost:8080/"
        },
        "id": "Ub7_-96C7u6f",
        "outputId": "cf89448e-c44d-40c8-b919-110d66fe95a1"
      },
      "execution_count": 43,
      "outputs": [
        {
          "output_type": "execute_result",
          "data": {
            "text/plain": [
              "1.4645923085581527"
            ]
          },
          "metadata": {},
          "execution_count": 43
        }
      ]
    },
    {
      "cell_type": "code",
      "source": [
        "np.max(w, axis=0) # largest element per column"
      ],
      "metadata": {
        "colab": {
          "base_uri": "https://localhost:8080/"
        },
        "id": "fwvewPXt8bIz",
        "outputId": "ec689088-2a88-44d1-91cd-564dd62f7d45"
      },
      "execution_count": 44,
      "outputs": [
        {
          "output_type": "execute_result",
          "data": {
            "text/plain": [
              "array([ 0.43077197, -0.82153272,  1.46459231, -0.41606375])"
            ]
          },
          "metadata": {},
          "execution_count": 44
        }
      ]
    },
    {
      "cell_type": "code",
      "source": [
        "np.max(w, axis=1) # largest element per row"
      ],
      "metadata": {
        "colab": {
          "base_uri": "https://localhost:8080/"
        },
        "id": "EN8Dk3e28K19",
        "outputId": "237ffb43-4460-4834-d40b-832e3513d75a"
      },
      "execution_count": 45,
      "outputs": [
        {
          "output_type": "execute_result",
          "data": {
            "text/plain": [
              "array([1.46459231, 0.6761138 , 0.43077197])"
            ]
          },
          "metadata": {},
          "execution_count": 45
        }
      ]
    },
    {
      "cell_type": "code",
      "source": [
        "np.argmax(w, axis=0) # indexes of the largest element in w, per column"
      ],
      "metadata": {
        "colab": {
          "base_uri": "https://localhost:8080/"
        },
        "id": "H0ebILec7wrw",
        "outputId": "952179e1-3642-4ff2-9c20-021e061c0735"
      },
      "execution_count": 46,
      "outputs": [
        {
          "output_type": "execute_result",
          "data": {
            "text/plain": [
              "array([2, 1, 0, 2])"
            ]
          },
          "metadata": {},
          "execution_count": 46
        }
      ]
    },
    {
      "cell_type": "code",
      "source": [
        "a = np.array([1, 2, 3, 4]) # vector"
      ],
      "metadata": {
        "id": "GMEkGOhpBUS3"
      },
      "execution_count": 49,
      "outputs": []
    },
    {
      "cell_type": "code",
      "source": [
        "w @ a # @ is matrix multiplication"
      ],
      "metadata": {
        "colab": {
          "base_uri": "https://localhost:8080/"
        },
        "id": "TKobzdehBiqQ",
        "outputId": "18a9372b-4ea9-418a-acde-ab914fb927c9"
      },
      "execution_count": 50,
      "outputs": [
        {
          "output_type": "execute_result",
          "data": {
            "text/plain": [
              "array([ 0.18173658, -3.59857412, -3.46827451])"
            ]
          },
          "metadata": {},
          "execution_count": 50
        }
      ]
    },
    {
      "cell_type": "code",
      "source": [
        "w[:2, 1:3] # slicing an array"
      ],
      "metadata": {
        "colab": {
          "base_uri": "https://localhost:8080/"
        },
        "id": "0pO48qKMB2DJ",
        "outputId": "fac8c8d0-6836-43e9-f959-a4911ad8a739"
      },
      "execution_count": 52,
      "outputs": [
        {
          "output_type": "execute_result",
          "data": {
            "text/plain": [
              "array([[-1.27169592,  1.46459231],\n",
              "       [-0.82153272,  0.6761138 ]])"
            ]
          },
          "metadata": {},
          "execution_count": 52
        }
      ]
    },
    {
      "cell_type": "markdown",
      "source": [
        "## Matplotlib\n",
        "Matplotlib is a very common package for plotting that is quite similar to plotting in matlab. This is the common way to import it:"
      ],
      "metadata": {
        "id": "TiLu0rih4BSy"
      }
    },
    {
      "cell_type": "code",
      "source": [
        "import matplotlib.pyplot as plt"
      ],
      "metadata": {
        "id": "7V7sNY-F4JpF"
      },
      "execution_count": null,
      "outputs": []
    },
    {
      "cell_type": "code",
      "source": [
        "x = np.arange(10)\n",
        "y = np.random.randn(10)\n",
        "plt.plot(x, y);"
      ],
      "metadata": {
        "colab": {
          "base_uri": "https://localhost:8080/",
          "height": 266
        },
        "id": "_qMUOPit4MtA",
        "outputId": "f06914c5-54fc-4642-cf8b-63b07dbe8e53"
      },
      "execution_count": null,
      "outputs": [
        {
          "output_type": "display_data",
          "data": {
            "text/plain": [
              "<Figure size 432x288 with 1 Axes>"
            ],
            "image/png": "[encoded data removed]"
          },
          "metadata": {
            "needs_background": "light"
          }
        }
      ]
    },
    {
      "cell_type": "markdown",
      "source": [
        "We can add some labels to the plot:"
      ],
      "metadata": {
        "id": "RNi3tAyy5Uyn"
      }
    },
    {
      "cell_type": "code",
      "source": [
        "plt.plot(x, y)\n",
        "plt.xlabel('tutorial number')\n",
        "plt.ylabel('student attendance')\n",
        "plt.title('Pessimistic tutorial attendance prediction');"
      ],
      "metadata": {
        "colab": {
          "base_uri": "https://localhost:8080/",
          "height": 295
        },
        "id": "ewuxHAc-5ZaM",
        "outputId": "dc2c7e8d-b016-4783-c739-f722d15aec60"
      },
      "execution_count": null,
      "outputs": [
        {
          "output_type": "display_data",
          "data": {
            "text/plain": [
              "<Figure size 432x288 with 1 Axes>"
            ],
            "image/png": "[encoded data removed]"
          },
          "metadata": {
            "needs_background": "light"
          }
        }
      ]
    },
    {
      "cell_type": "markdown",
      "source": [
        "There are many ways to make complex and pretty plots, but that is less important for now."
      ],
      "metadata": {
        "id": "EG3DuXbs5y8e"
      }
    },
    {
      "cell_type": "markdown",
      "source": [
        "# `if` statements\n",
        "Use this to do something dependent on some condition."
      ],
      "metadata": {
        "id": "PeKkUXeJ6H4g"
      }
    },
    {
      "cell_type": "code",
      "source": [
        "if 2 > 1:\n",
        "  print('Everything is fine.')\n",
        "else:\n",
        "  print('Math is broken!')"
      ],
      "metadata": {
        "colab": {
          "base_uri": "https://localhost:8080/"
        },
        "id": "yLbta57e6QSO",
        "outputId": "bbdbfc10-cc5b-4a25-f038-e2896b8cd508"
      },
      "execution_count": null,
      "outputs": [
        {
          "output_type": "stream",
          "name": "stdout",
          "text": [
            "Everything is fine.\n"
          ]
        }
      ]
    },
    {
      "cell_type": "markdown",
      "source": [
        "It is more useful in a loop:"
      ],
      "metadata": {
        "id": "jPxlyaDY6qtN"
      }
    },
    {
      "cell_type": "code",
      "source": [
        "A = [1, 5, 7, 8, 2]\n",
        "B = [] # B starts as an empty list\n",
        "# let's put in B only elements in A that are larger than 6.\n",
        "for a in A:\n",
        "  if a > 6:\n",
        "    B.append(a) # append adds `a` as a new element of B\n",
        "B\n",
        "    "
      ],
      "metadata": {
        "colab": {
          "base_uri": "https://localhost:8080/"
        },
        "id": "NMIb4e_V6tuZ",
        "outputId": "497f1838-28ae-4377-d821-1757c135a65a"
      },
      "execution_count": null,
      "outputs": [
        {
          "output_type": "execute_result",
          "data": {
            "text/plain": [
              "[7, 8]"
            ]
          },
          "metadata": {},
          "execution_count": 106
        }
      ]
    },
    {
      "cell_type": "markdown",
      "source": [
        "# Defining functions"
      ],
      "metadata": {
        "id": "1pKzJsJ71tyk"
      }
    },
    {
      "cell_type": "code",
      "source": [
        "def sum_and_square(x, y):\n",
        "  return (x + y)**2"
      ],
      "metadata": {
        "id": "BZU9P-f01sxN"
      },
      "execution_count": null,
      "outputs": []
    },
    {
      "cell_type": "code",
      "source": [
        "sum_and_square(2, 3)"
      ],
      "metadata": {
        "colab": {
          "base_uri": "https://localhost:8080/"
        },
        "id": "HOP8vV4F2BIu",
        "outputId": "ac164f07-490d-4cb9-8b44-51597db9ac74"
      },
      "execution_count": null,
      "outputs": [
        {
          "output_type": "execute_result",
          "data": {
            "text/plain": [
              "25"
            ]
          },
          "metadata": {},
          "execution_count": 108
        }
      ]
    },
    {
      "cell_type": "code",
      "source": [
        "A = [1, 3, 4]\n",
        "for a1 in A:\n",
        "  for a2 in A: # nested loop\n",
        "    print(sum_and_square(a1, a2))\n"
      ],
      "metadata": {
        "colab": {
          "base_uri": "https://localhost:8080/"
        },
        "id": "LK_Dthvt2L2P",
        "outputId": "d046f36f-da50-42d5-e5b7-5fb7f3aa465e"
      },
      "execution_count": null,
      "outputs": [
        {
          "output_type": "stream",
          "name": "stdout",
          "text": [
            "4\n",
            "16\n",
            "25\n",
            "16\n",
            "36\n",
            "49\n",
            "25\n",
            "49\n",
            "64\n"
          ]
        }
      ]
    }
  ]
}